{
 "cells": [
  {
   "cell_type": "code",
   "execution_count": null,
   "id": "92c89096-c0d8-4b35-9968-35a705dd7ef3",
   "metadata": {},
   "outputs": [
    {
     "name": "stdout",
     "output_type": "stream",
     "text": [
      "Collecting pandas\n",
      "  Obtaining dependency information for pandas from https://files.pythonhosted.org/packages/d0/28/88b81881c056376254618fad622a5e94b5126db8c61157ea1910cd1c040a/pandas-2.0.3-cp311-cp311-manylinux_2_17_x86_64.manylinux2014_x86_64.whl.metadata\n",
      "  Downloading pandas-2.0.3-cp311-cp311-manylinux_2_17_x86_64.manylinux2014_x86_64.whl.metadata (18 kB)\n",
      "Requirement already satisfied: python-dateutil>=2.8.2 in /opt/conda/lib/python3.11/site-packages (from pandas) (2.8.2)\n",
      "Requirement already satisfied: pytz>=2020.1 in /opt/conda/lib/python3.11/site-packages (from pandas) (2023.3)\n",
      "Collecting tzdata>=2022.1 (from pandas)\n",
      "  Downloading tzdata-2023.3-py2.py3-none-any.whl (341 kB)\n",
      "\u001b[2K     \u001b[90m━━━━━━━━━━━━━━━━━━━━━━━━━━━━━━━━━━━━━━━\u001b[0m \u001b[32m341.8/341.8 kB\u001b[0m \u001b[31m1.2 MB/s\u001b[0m eta \u001b[36m0:00:00\u001b[0m00:01\u001b[0m00:01\u001b[0m\n",
      "\u001b[?25hCollecting numpy>=1.21.0 (from pandas)\n",
      "  Obtaining dependency information for numpy>=1.21.0 from https://files.pythonhosted.org/packages/f0/5a/9b7b7bae29f9f5f8a976607cd30139c1fec9076c0e65ea918d3400924acf/numpy-1.25.1-cp311-cp311-manylinux_2_17_x86_64.manylinux2014_x86_64.whl.metadata\n",
      "  Downloading numpy-1.25.1-cp311-cp311-manylinux_2_17_x86_64.manylinux2014_x86_64.whl.metadata (5.6 kB)\n",
      "Requirement already satisfied: six>=1.5 in /opt/conda/lib/python3.11/site-packages (from python-dateutil>=2.8.2->pandas) (1.16.0)\n",
      "Downloading pandas-2.0.3-cp311-cp311-manylinux_2_17_x86_64.manylinux2014_x86_64.whl (12.2 MB)\n",
      "\u001b[2K   \u001b[90m━━━━━━━━━━━━━━━━━━━━━━━━━━━━━━━━━━━━━━━━\u001b[0m \u001b[32m12.2/12.2 MB\u001b[0m \u001b[31m7.4 MB/s\u001b[0m eta \u001b[36m0:00:00\u001b[0m00:01\u001b[0m00:01\u001b[0m\n",
      "\u001b[?25hDownloading numpy-1.25.1-cp311-cp311-manylinux_2_17_x86_64.manylinux2014_x86_64.whl (17.6 MB)\n",
      "\u001b[2K   \u001b[91m━━━━━━━━━━━━━━━━━━━━\u001b[0m\u001b[91m╸\u001b[0m\u001b[90m━━━━━━━━━━━━━━━━━━━\u001b[0m \u001b[32m9.1/17.6 MB\u001b[0m \u001b[31m5.8 MB/s\u001b[0m eta \u001b[36m0:00:02\u001b[0m"
     ]
    }
   ],
   "source": [
    "!pip install pandas"
   ]
  },
  {
   "cell_type": "code",
   "execution_count": 181,
   "id": "98dae7ab-a7f7-4f74-9be3-ddb58207521b",
   "metadata": {},
   "outputs": [
    {
     "name": "stdout",
     "output_type": "stream",
     "text": [
      "Requirement already satisfied: matplotlib in /opt/conda/lib/python3.11/site-packages (3.7.2)\n",
      "Requirement already satisfied: contourpy>=1.0.1 in /opt/conda/lib/python3.11/site-packages (from matplotlib) (1.1.0)\n",
      "Requirement already satisfied: cycler>=0.10 in /opt/conda/lib/python3.11/site-packages (from matplotlib) (0.11.0)\n",
      "Requirement already satisfied: fonttools>=4.22.0 in /opt/conda/lib/python3.11/site-packages (from matplotlib) (4.41.0)\n",
      "Requirement already satisfied: kiwisolver>=1.0.1 in /opt/conda/lib/python3.11/site-packages (from matplotlib) (1.4.4)\n",
      "Requirement already satisfied: numpy>=1.20 in /opt/conda/lib/python3.11/site-packages (from matplotlib) (1.25.1)\n",
      "Requirement already satisfied: packaging>=20.0 in /opt/conda/lib/python3.11/site-packages (from matplotlib) (23.1)\n",
      "Requirement already satisfied: pillow>=6.2.0 in /opt/conda/lib/python3.11/site-packages (from matplotlib) (10.0.0)\n",
      "Requirement already satisfied: pyparsing<3.1,>=2.3.1 in /opt/conda/lib/python3.11/site-packages (from matplotlib) (3.0.9)\n",
      "Requirement already satisfied: python-dateutil>=2.7 in /opt/conda/lib/python3.11/site-packages (from matplotlib) (2.8.2)\n",
      "Requirement already satisfied: six>=1.5 in /opt/conda/lib/python3.11/site-packages (from python-dateutil>=2.7->matplotlib) (1.16.0)\n"
     ]
    }
   ],
   "source": [
    "!pip install matplotlib"
   ]
  },
  {
   "cell_type": "code",
   "execution_count": 8,
   "id": "6398dd29-9569-4317-be68-e203ce7e7e81",
   "metadata": {},
   "outputs": [
    {
     "name": "stdout",
     "output_type": "stream",
     "text": [
      "Collecting psycopg2-binary\n",
      "  Downloading psycopg2_binary-2.9.6-cp311-cp311-manylinux_2_17_x86_64.manylinux2014_x86_64.whl (3.0 MB)\n",
      "\u001b[2K     \u001b[90m━━━━━━━━━━━━━━━━━━━━━━━━━━━━━━━━━━━━━━━━\u001b[0m \u001b[32m3.0/3.0 MB\u001b[0m \u001b[31m6.0 MB/s\u001b[0m eta \u001b[36m0:00:00\u001b[0m00:01\u001b[0m00:01\u001b[0m\n",
      "\u001b[?25hInstalling collected packages: psycopg2-binary\n",
      "Successfully installed psycopg2-binary-2.9.6\n"
     ]
    }
   ],
   "source": [
    "!pip install psycopg2-binary"
   ]
  },
  {
   "cell_type": "code",
   "execution_count": 271,
   "id": "5f97c914-ee53-42e8-a18c-c57fd45330aa",
   "metadata": {},
   "outputs": [],
   "source": [
    "import pandas as pd\n",
    "from sqlalchemy import create_engine\n",
    "from queries import and_query_cleaned, apl_cleaned_query\n",
    "from collections import Counter\n",
    "from datetime import datetime\n",
    "import matplotlib.pyplot as plt\n",
    "from operator import itemgetter"
   ]
  },
  {
   "cell_type": "code",
   "execution_count": null,
   "id": "f7263877-c814-4e9e-aa23-ccc72d11e009",
   "metadata": {},
   "outputs": [],
   "source": []
  },
  {
   "cell_type": "code",
   "execution_count": 17,
   "id": "7bd538fb-f5ff-4812-a868-ac50181582b2",
   "metadata": {},
   "outputs": [],
   "source": [
    "engine = create_engine('postgresql://postgres:postgres@db:5432/postgres')"
   ]
  },
  {
   "cell_type": "code",
   "execution_count": 18,
   "id": "8687f750-630d-443f-9167-2f1367e94786",
   "metadata": {},
   "outputs": [],
   "source": [
    "apl_df = pd.read_sql(apl_cleaned_query,engine)"
   ]
  },
  {
   "cell_type": "code",
   "execution_count": 19,
   "id": "54912c87-2560-46ec-b5f6-70fa6c2d91ab",
   "metadata": {},
   "outputs": [],
   "source": [
    "and_df = pd.read_sql(and_query_cleaned,engine)"
   ]
  },
  {
   "cell_type": "markdown",
   "id": "430fb45d-4a71-4c9d-8c0a-6245fcaffb8a",
   "metadata": {},
   "source": [
    "### goals\n",
    "<ul>\n",
    "<li><strike>Plot the distribution of app sizes across our three categories. This column is called Size_Bytes in the App Store data and Size in the Google Play data.</strike>\n",
    "</li>\n",
    "<li><strike>Compute the average rating across all ratings for each of the three categories. Note that we’re not looking for an average of the average ratings for each category, but rather the average across all ratings for each category. For example, if we have two apps in the same category and one app has 1 rating with an average of 1.0 and the other app has 2 ratings with an average of 5.0, the value we’re looking for is 3.7 (average of 1, 5, and 5), not 3.0 (average of 1 and 5). The relevant columns here are Average_User_Rating and Reviews for the App Store and Rating and Rating Count for Google Play.</strike>\n",
    "</li>\n",
    "<li><strike>Plot the number of new releases in each category over time by month, using the Released column.</strike></li>\n",
    "<li><strike>List the 10 biggest apps by size in each category by year.</strike></li>\n",
    "</ul>"
   ]
  },
  {
   "cell_type": "code",
   "execution_count": 159,
   "id": "36eb02b4-32d3-4f78-8d74-e6ae261aaf86",
   "metadata": {},
   "outputs": [],
   "source": [
    "datetimes = []\n",
    "for i in list(apl_df['release_date']):\n",
    "    try:\n",
    "        datetimes.append(datetime.strptime(i[:10], '%Y-%m-%d'))\n",
    "    except:\n",
    "        datetimes.append(i)"
   ]
  },
  {
   "cell_type": "code",
   "execution_count": 162,
   "id": "51c15dbc-d745-4620-8667-4cede694104c",
   "metadata": {},
   "outputs": [],
   "source": [
    "apl_df['release_date'] = datetimes"
   ]
  },
  {
   "cell_type": "code",
   "execution_count": 172,
   "id": "f3b2d2df-69a1-4462-80b7-64a195bc40c4",
   "metadata": {},
   "outputs": [],
   "source": [
    "datetimes = []\n",
    "for i in list(and_df['release_date']):\n",
    "    datetimes.append(datetime.strptime(i, '%b %d, %Y'))\n"
   ]
  },
  {
   "cell_type": "code",
   "execution_count": 174,
   "id": "bd5cd47a-5eb6-4fd4-904b-da4f65606b8b",
   "metadata": {},
   "outputs": [],
   "source": [
    "and_df['release_date'] = datetimes"
   ]
  },
  {
   "cell_type": "code",
   "execution_count": 175,
   "id": "51bda4d6-9861-432d-9da5-bb2c3e2c5350",
   "metadata": {},
   "outputs": [
    {
     "data": {
      "text/plain": [
       "598289"
      ]
     },
     "execution_count": 175,
     "metadata": {},
     "output_type": "execute_result"
    }
   ],
   "source": [
    "len(datetimes)"
   ]
  },
  {
   "cell_type": "code",
   "execution_count": null,
   "id": "bb748307-5cf3-4435-b635-57387365e068",
   "metadata": {},
   "outputs": [],
   "source": [
    "date_string = '2021-12-31'\n",
    "datetime = datetime.strptime(date_string, '%Y-%m-%d')"
   ]
  },
  {
   "cell_type": "code",
   "execution_count": 176,
   "id": "392176f8-d1f1-491a-a855-d8b3fa686a2e",
   "metadata": {},
   "outputs": [
    {
     "data": {
      "text/html": [
       "<div>\n",
       "<style scoped>\n",
       "    .dataframe tbody tr th:only-of-type {\n",
       "        vertical-align: middle;\n",
       "    }\n",
       "\n",
       "    .dataframe tbody tr th {\n",
       "        vertical-align: top;\n",
       "    }\n",
       "\n",
       "    .dataframe thead th {\n",
       "        text-align: right;\n",
       "    }\n",
       "</style>\n",
       "<table border=\"1\" class=\"dataframe\">\n",
       "  <thead>\n",
       "    <tr style=\"text-align: right;\">\n",
       "      <th></th>\n",
       "      <th>name</th>\n",
       "      <th>release_date</th>\n",
       "      <th>release_year</th>\n",
       "      <th>filesize</th>\n",
       "      <th>genre</th>\n",
       "      <th>rating</th>\n",
       "      <th>rating_amt</th>\n",
       "      <th>platform</th>\n",
       "    </tr>\n",
       "  </thead>\n",
       "  <tbody>\n",
       "    <tr>\n",
       "      <th>0</th>\n",
       "      <td>Dieta Cetogénica</td>\n",
       "      <td>2017-05-18</td>\n",
       "      <td>2017</td>\n",
       "      <td>2800000.0000</td>\n",
       "      <td>Health &amp; Fitness</td>\n",
       "      <td>4.6000</td>\n",
       "      <td>11844.0000</td>\n",
       "      <td>android</td>\n",
       "    </tr>\n",
       "    <tr>\n",
       "      <th>1</th>\n",
       "      <td>Murottal Al-Qur'an Anak Full</td>\n",
       "      <td>2015-07-05</td>\n",
       "      <td>2015</td>\n",
       "      <td>23000000.0000</td>\n",
       "      <td>Games</td>\n",
       "      <td>4.3000</td>\n",
       "      <td>321.0000</td>\n",
       "      <td>android</td>\n",
       "    </tr>\n",
       "    <tr>\n",
       "      <th>2</th>\n",
       "      <td>Real 3D Sounds</td>\n",
       "      <td>2016-07-17</td>\n",
       "      <td>2016</td>\n",
       "      <td>26000000.0000</td>\n",
       "      <td>Music</td>\n",
       "      <td>3.4000</td>\n",
       "      <td>160.0000</td>\n",
       "      <td>android</td>\n",
       "    </tr>\n",
       "    <tr>\n",
       "      <th>3</th>\n",
       "      <td>Beating Together - Visual Novel</td>\n",
       "      <td>2018-11-22</td>\n",
       "      <td>2018</td>\n",
       "      <td>56000000.0000</td>\n",
       "      <td>Games</td>\n",
       "      <td>3.9000</td>\n",
       "      <td>3141.0000</td>\n",
       "      <td>android</td>\n",
       "    </tr>\n",
       "    <tr>\n",
       "      <th>4</th>\n",
       "      <td>THR Remote</td>\n",
       "      <td>2019-09-18</td>\n",
       "      <td>2019</td>\n",
       "      <td>12000000.0000</td>\n",
       "      <td>Music</td>\n",
       "      <td>2.7000</td>\n",
       "      <td>278.0000</td>\n",
       "      <td>android</td>\n",
       "    </tr>\n",
       "    <tr>\n",
       "      <th>...</th>\n",
       "      <td>...</td>\n",
       "      <td>...</td>\n",
       "      <td>...</td>\n",
       "      <td>...</td>\n",
       "      <td>...</td>\n",
       "      <td>...</td>\n",
       "      <td>...</td>\n",
       "      <td>...</td>\n",
       "    </tr>\n",
       "    <tr>\n",
       "      <th>598284</th>\n",
       "      <td>All Germany Radios in One App</td>\n",
       "      <td>2019-08-24</td>\n",
       "      <td>2019</td>\n",
       "      <td>8000000.0000</td>\n",
       "      <td>Music</td>\n",
       "      <td>0.0000</td>\n",
       "      <td>0.0000</td>\n",
       "      <td>android</td>\n",
       "    </tr>\n",
       "    <tr>\n",
       "      <th>598285</th>\n",
       "      <td>Click Counter. How Many Clicks Can You Handle?</td>\n",
       "      <td>2019-07-31</td>\n",
       "      <td>2019</td>\n",
       "      <td>9200000.0000</td>\n",
       "      <td>Games</td>\n",
       "      <td>0.0000</td>\n",
       "      <td>0.0000</td>\n",
       "      <td>android</td>\n",
       "    </tr>\n",
       "    <tr>\n",
       "      <th>598286</th>\n",
       "      <td>Spooky Halloween</td>\n",
       "      <td>2016-10-29</td>\n",
       "      <td>2016</td>\n",
       "      <td>NaN</td>\n",
       "      <td>Games</td>\n",
       "      <td>3.9000</td>\n",
       "      <td>11.0000</td>\n",
       "      <td>android</td>\n",
       "    </tr>\n",
       "    <tr>\n",
       "      <th>598287</th>\n",
       "      <td>Ringtones Def Leppard Greatest Hits</td>\n",
       "      <td>2019-09-29</td>\n",
       "      <td>2019</td>\n",
       "      <td>11000000.0000</td>\n",
       "      <td>Music</td>\n",
       "      <td>4.6000</td>\n",
       "      <td>50.0000</td>\n",
       "      <td>android</td>\n",
       "    </tr>\n",
       "    <tr>\n",
       "      <th>598288</th>\n",
       "      <td>Guide For Wolfquest</td>\n",
       "      <td>2021-02-26</td>\n",
       "      <td>2021</td>\n",
       "      <td>8200000.0000</td>\n",
       "      <td>Games</td>\n",
       "      <td>3.2000</td>\n",
       "      <td>96.0000</td>\n",
       "      <td>android</td>\n",
       "    </tr>\n",
       "  </tbody>\n",
       "</table>\n",
       "<p>598289 rows × 8 columns</p>\n",
       "</div>"
      ],
      "text/plain": [
       "                                                  name release_date  \\\n",
       "0                                     Dieta Cetogénica   2017-05-18   \n",
       "1                         Murottal Al-Qur'an Anak Full   2015-07-05   \n",
       "2                                       Real 3D Sounds   2016-07-17   \n",
       "3                      Beating Together - Visual Novel   2018-11-22   \n",
       "4                                           THR Remote   2019-09-18   \n",
       "...                                                ...          ...   \n",
       "598284                   All Germany Radios in One App   2019-08-24   \n",
       "598285  Click Counter. How Many Clicks Can You Handle?   2019-07-31   \n",
       "598286                                Spooky Halloween   2016-10-29   \n",
       "598287             Ringtones Def Leppard Greatest Hits   2019-09-29   \n",
       "598288                             Guide For Wolfquest   2021-02-26   \n",
       "\n",
       "       release_year      filesize             genre  rating  rating_amt  \\\n",
       "0              2017  2800000.0000  Health & Fitness  4.6000  11844.0000   \n",
       "1              2015 23000000.0000             Games  4.3000    321.0000   \n",
       "2              2016 26000000.0000             Music  3.4000    160.0000   \n",
       "3              2018 56000000.0000             Games  3.9000   3141.0000   \n",
       "4              2019 12000000.0000             Music  2.7000    278.0000   \n",
       "...             ...           ...               ...     ...         ...   \n",
       "598284         2019  8000000.0000             Music  0.0000      0.0000   \n",
       "598285         2019  9200000.0000             Games  0.0000      0.0000   \n",
       "598286         2016           NaN             Games  3.9000     11.0000   \n",
       "598287         2019 11000000.0000             Music  4.6000     50.0000   \n",
       "598288         2021  8200000.0000             Games  3.2000     96.0000   \n",
       "\n",
       "       platform  \n",
       "0       android  \n",
       "1       android  \n",
       "2       android  \n",
       "3       android  \n",
       "4       android  \n",
       "...         ...  \n",
       "598284  android  \n",
       "598285  android  \n",
       "598286  android  \n",
       "598287  android  \n",
       "598288  android  \n",
       "\n",
       "[598289 rows x 8 columns]"
      ]
     },
     "execution_count": 176,
     "metadata": {},
     "output_type": "execute_result"
    }
   ],
   "source": [
    "and_df"
   ]
  },
  {
   "cell_type": "code",
   "execution_count": 34,
   "id": "0b25e3d3-17b9-4643-8630-2d5c26cafb81",
   "metadata": {},
   "outputs": [],
   "source": [
    "ends = []\n",
    "for i in list(and_df['filesize']):\n",
    "    if i[-1] not in ends:\n",
    "        ends.append(i[-1])\n",
    "        ends.append(i)"
   ]
  },
  {
   "cell_type": "code",
   "execution_count": 35,
   "id": "940bb296-64e6-418f-a237-3472e2ab8ccc",
   "metadata": {},
   "outputs": [
    {
     "data": {
      "text/plain": [
       "['M', '2.8M', 'e', 'Varies with device', 'k', '659k', 'G', '1.5G']"
      ]
     },
     "execution_count": 35,
     "metadata": {},
     "output_type": "execute_result"
    }
   ],
   "source": [
    "ends"
   ]
  },
  {
   "cell_type": "code",
   "execution_count": 36,
   "id": "26a99000-291c-4c63-97a1-7f97d00edf48",
   "metadata": {},
   "outputs": [],
   "source": [
    "kb = 1000\n",
    "mb = 1000 * kb\n",
    "gb = 1000 * mb"
   ]
  },
  {
   "cell_type": "code",
   "execution_count": 53,
   "id": "29ce03d7-ff0b-43de-b599-6d4b632c903b",
   "metadata": {},
   "outputs": [],
   "source": [
    "calc = []\n",
    "for i in list(and_df['filesize']):\n",
    "    if i[-1] == 'M':\n",
    "        calc.append(float(i[:-1].replace(',','')) * mb)\n",
    "    elif i[-1] == 'k':\n",
    "        calc.append(float(i[:-1].replace(',','')) * kb)\n",
    "    elif i[-1] == 'G':\n",
    "        calc.append(float(i[:-1].replace(',','')) * gb)\n",
    "    else:\n",
    "        calc.append(None)"
   ]
  },
  {
   "cell_type": "code",
   "execution_count": null,
   "id": "48aae9c3-4f6d-4249-8586-d6d850e26555",
   "metadata": {},
   "outputs": [],
   "source": []
  },
  {
   "cell_type": "code",
   "execution_count": 58,
   "id": "e4572924-1406-4092-ac28-fb2432b249f7",
   "metadata": {},
   "outputs": [],
   "source": [
    "and_df['filesize'] = calc"
   ]
  },
  {
   "cell_type": "code",
   "execution_count": 177,
   "id": "f2fd7b2a-d730-4fe5-87ef-5d98944b1985",
   "metadata": {},
   "outputs": [],
   "source": [
    "df = pd.concat([apl_df,and_df])"
   ]
  },
  {
   "cell_type": "code",
   "execution_count": null,
   "id": "4817013f-6452-4294-8271-5aaf68d393b8",
   "metadata": {},
   "outputs": [],
   "source": []
  },
  {
   "cell_type": "code",
   "execution_count": 115,
   "id": "b0e99bee-802f-42f9-9161-b86c01d3eb90",
   "metadata": {},
   "outputs": [],
   "source": [
    "grouped = df.groupby(['genre', 'release_year'])"
   ]
  },
  {
   "cell_type": "code",
   "execution_count": 116,
   "id": "8b2ac942-c6f2-422a-8623-f3192825f307",
   "metadata": {},
   "outputs": [],
   "source": [
    "df = df.sort_values(by='filesize', ascending=False)"
   ]
  },
  {
   "cell_type": "code",
   "execution_count": 117,
   "id": "cbdb4f59-f52d-4e09-8a7e-3e685cbceaac",
   "metadata": {},
   "outputs": [],
   "source": [
    "grouped = df.groupby(['genre', 'release_year']).head(10)"
   ]
  },
  {
   "cell_type": "code",
   "execution_count": 118,
   "id": "930327e8-6997-4872-bdd5-54be54cc1fe3",
   "metadata": {},
   "outputs": [],
   "source": [
    "grouped = grouped.sort_values(['genre', 'release_year'])"
   ]
  },
  {
   "cell_type": "code",
   "execution_count": 119,
   "id": "50897423-8d2c-4053-b865-d1c5bda72a70",
   "metadata": {},
   "outputs": [],
   "source": [
    "inmb = []\n",
    "for i in list(grouped['filesize']):\n",
    "    inmb.append(i / mb) "
   ]
  },
  {
   "cell_type": "code",
   "execution_count": 89,
   "id": "2b277591-e492-4734-8094-fbd29761c636",
   "metadata": {},
   "outputs": [],
   "source": [
    "pd.set_option('display.max_rows', 500)"
   ]
  },
  {
   "cell_type": "code",
   "execution_count": 120,
   "id": "f33a4df9-f966-4f54-ac5e-9f40cabcd7af",
   "metadata": {},
   "outputs": [],
   "source": [
    "grouped['mb'] = inmb"
   ]
  },
  {
   "cell_type": "raw",
   "id": "c99a8f20-acc7-43d8-a9d9-c90cf85ce847",
   "metadata": {},
   "source": [
    "apl_df['filesize'] = list(apl_df['filesize'])"
   ]
  },
  {
   "cell_type": "code",
   "execution_count": 106,
   "id": "a767a5d1-da97-496b-ba19-a3249b648101",
   "metadata": {},
   "outputs": [
    {
     "data": {
      "text/plain": [
       "dtype('float64')"
      ]
     },
     "execution_count": 106,
     "metadata": {},
     "output_type": "execute_result"
    }
   ],
   "source": [
    "apl_df['filesize'].dtype"
   ]
  },
  {
   "cell_type": "code",
   "execution_count": null,
   "id": "fb52af82-366a-4fb7-9cb7-2a2a67cbe9d1",
   "metadata": {},
   "outputs": [],
   "source": []
  },
  {
   "cell_type": "code",
   "execution_count": null,
   "id": "e366d52c-8f55-4328-a34d-143d01305f95",
   "metadata": {},
   "outputs": [],
   "source": []
  },
  {
   "cell_type": "code",
   "execution_count": null,
   "id": "af11ea07-79ee-4280-bc94-01bca05f3510",
   "metadata": {},
   "outputs": [],
   "source": [
    "# was a little bit suspicious because all the top results were ios apps\n",
    "# confirmed my conversion math was right, and compared some of the largest total android apps\n",
    "# all the hand picked large android apps were way smaller so I think this list is correct"
   ]
  },
  {
   "cell_type": "code",
   "execution_count": 129,
   "id": "1a541995-9625-40dd-867a-995bd1ece396",
   "metadata": {},
   "outputs": [
    {
     "data": {
      "text/plain": [
       "431"
      ]
     },
     "execution_count": 129,
     "metadata": {},
     "output_type": "execute_result"
    }
   ],
   "source": [
    "len(grouped)"
   ]
  },
  {
   "cell_type": "code",
   "execution_count": 138,
   "id": "3a8d735e-b283-458a-b90a-d307d38538d6",
   "metadata": {},
   "outputs": [
    {
     "data": {
      "text/html": [
       "<div>\n",
       "<style scoped>\n",
       "    .dataframe tbody tr th:only-of-type {\n",
       "        vertical-align: middle;\n",
       "    }\n",
       "\n",
       "    .dataframe tbody tr th {\n",
       "        vertical-align: top;\n",
       "    }\n",
       "\n",
       "    .dataframe thead th {\n",
       "        text-align: right;\n",
       "    }\n",
       "</style>\n",
       "<table border=\"1\" class=\"dataframe\">\n",
       "  <thead>\n",
       "    <tr style=\"text-align: right;\">\n",
       "      <th></th>\n",
       "      <th>name</th>\n",
       "      <th>release_date</th>\n",
       "      <th>release_year</th>\n",
       "      <th>filesize</th>\n",
       "      <th>genre</th>\n",
       "      <th>rating</th>\n",
       "      <th>rating_amt</th>\n",
       "      <th>platform</th>\n",
       "      <th>mb</th>\n",
       "    </tr>\n",
       "  </thead>\n",
       "  <tbody>\n",
       "    <tr>\n",
       "      <th>180619</th>\n",
       "      <td>LOST in Blue (Global)</td>\n",
       "      <td>2022-01-14T08:00:00Z</td>\n",
       "      <td>2022</td>\n",
       "      <td>2510417920.0000</td>\n",
       "      <td>Games</td>\n",
       "      <td>0.0000</td>\n",
       "      <td>0.0000</td>\n",
       "      <td>apple</td>\n",
       "      <td>2510.4179</td>\n",
       "    </tr>\n",
       "    <tr>\n",
       "      <th>93911</th>\n",
       "      <td>Galaxy Mobile</td>\n",
       "      <td>2022-01-20T08:00:00Z</td>\n",
       "      <td>2022</td>\n",
       "      <td>1134328832.0000</td>\n",
       "      <td>Games</td>\n",
       "      <td>0.0000</td>\n",
       "      <td>0.0000</td>\n",
       "      <td>apple</td>\n",
       "      <td>1134.3288</td>\n",
       "    </tr>\n",
       "    <tr>\n",
       "      <th>177723</th>\n",
       "      <td>Timewreck Tales</td>\n",
       "      <td>2022-02-02T08:00:00Z</td>\n",
       "      <td>2022</td>\n",
       "      <td>433393664.0000</td>\n",
       "      <td>Games</td>\n",
       "      <td>0.0000</td>\n",
       "      <td>0.0000</td>\n",
       "      <td>apple</td>\n",
       "      <td>433.3937</td>\n",
       "    </tr>\n",
       "    <tr>\n",
       "      <th>30571</th>\n",
       "      <td>Pet Care Game–My Cat &amp; Dog Sim</td>\n",
       "      <td>2022-03-25T07:00:00Z</td>\n",
       "      <td>2022</td>\n",
       "      <td>360672256.0000</td>\n",
       "      <td>Games</td>\n",
       "      <td>0.0000</td>\n",
       "      <td>0.0000</td>\n",
       "      <td>apple</td>\n",
       "      <td>360.6723</td>\n",
       "    </tr>\n",
       "    <tr>\n",
       "      <th>119892</th>\n",
       "      <td>Magicabin</td>\n",
       "      <td>2022-01-18T08:00:00Z</td>\n",
       "      <td>2022</td>\n",
       "      <td>353041408.0000</td>\n",
       "      <td>Games</td>\n",
       "      <td>0.0000</td>\n",
       "      <td>0.0000</td>\n",
       "      <td>apple</td>\n",
       "      <td>353.0414</td>\n",
       "    </tr>\n",
       "    <tr>\n",
       "      <th>197444</th>\n",
       "      <td>Summer Athletics Sports 3D Sim</td>\n",
       "      <td>2022-01-21T08:00:00Z</td>\n",
       "      <td>2022</td>\n",
       "      <td>343053312.0000</td>\n",
       "      <td>Games</td>\n",
       "      <td>0.0000</td>\n",
       "      <td>0.0000</td>\n",
       "      <td>apple</td>\n",
       "      <td>343.0533</td>\n",
       "    </tr>\n",
       "    <tr>\n",
       "      <th>98598</th>\n",
       "      <td>Twins Baby Care &amp; Newborn Game</td>\n",
       "      <td>2022-02-11T08:00:00Z</td>\n",
       "      <td>2022</td>\n",
       "      <td>330947584.0000</td>\n",
       "      <td>Games</td>\n",
       "      <td>0.0000</td>\n",
       "      <td>0.0000</td>\n",
       "      <td>apple</td>\n",
       "      <td>330.9476</td>\n",
       "    </tr>\n",
       "    <tr>\n",
       "      <th>39635</th>\n",
       "      <td>High School Anime Teacher Game</td>\n",
       "      <td>2022-02-11T08:00:00Z</td>\n",
       "      <td>2022</td>\n",
       "      <td>319857664.0000</td>\n",
       "      <td>Games</td>\n",
       "      <td>0.0000</td>\n",
       "      <td>0.0000</td>\n",
       "      <td>apple</td>\n",
       "      <td>319.8577</td>\n",
       "    </tr>\n",
       "    <tr>\n",
       "      <th>64981</th>\n",
       "      <td>Billionaire Rich Dad Family 3D</td>\n",
       "      <td>2022-02-06T08:00:00Z</td>\n",
       "      <td>2022</td>\n",
       "      <td>316479488.0000</td>\n",
       "      <td>Games</td>\n",
       "      <td>0.0000</td>\n",
       "      <td>0.0000</td>\n",
       "      <td>apple</td>\n",
       "      <td>316.4795</td>\n",
       "    </tr>\n",
       "    <tr>\n",
       "      <th>50380</th>\n",
       "      <td>Anime Pregnant Mother Care Sim</td>\n",
       "      <td>2022-03-04T08:00:00Z</td>\n",
       "      <td>2022</td>\n",
       "      <td>290083840.0000</td>\n",
       "      <td>Games</td>\n",
       "      <td>0.0000</td>\n",
       "      <td>0.0000</td>\n",
       "      <td>apple</td>\n",
       "      <td>290.0838</td>\n",
       "    </tr>\n",
       "    <tr>\n",
       "      <th>219747</th>\n",
       "      <td>Contraction Counter &amp;Timer App</td>\n",
       "      <td>2022-01-07T08:00:00Z</td>\n",
       "      <td>2022</td>\n",
       "      <td>63618048.0000</td>\n",
       "      <td>Health &amp; Fitness</td>\n",
       "      <td>0.0000</td>\n",
       "      <td>0.0000</td>\n",
       "      <td>apple</td>\n",
       "      <td>63.6180</td>\n",
       "    </tr>\n",
       "  </tbody>\n",
       "</table>\n",
       "</div>"
      ],
      "text/plain": [
       "                                  name          release_date release_year  \\\n",
       "180619           LOST in Blue (Global)  2022-01-14T08:00:00Z         2022   \n",
       "93911                    Galaxy Mobile  2022-01-20T08:00:00Z         2022   \n",
       "177723                 Timewreck Tales  2022-02-02T08:00:00Z         2022   \n",
       "30571   Pet Care Game–My Cat & Dog Sim  2022-03-25T07:00:00Z         2022   \n",
       "119892                       Magicabin  2022-01-18T08:00:00Z         2022   \n",
       "197444  Summer Athletics Sports 3D Sim  2022-01-21T08:00:00Z         2022   \n",
       "98598   Twins Baby Care & Newborn Game  2022-02-11T08:00:00Z         2022   \n",
       "39635   High School Anime Teacher Game  2022-02-11T08:00:00Z         2022   \n",
       "64981   Billionaire Rich Dad Family 3D  2022-02-06T08:00:00Z         2022   \n",
       "50380   Anime Pregnant Mother Care Sim  2022-03-04T08:00:00Z         2022   \n",
       "219747  Contraction Counter &Timer App  2022-01-07T08:00:00Z         2022   \n",
       "\n",
       "              filesize             genre  rating  rating_amt platform  \\\n",
       "180619 2510417920.0000             Games  0.0000      0.0000    apple   \n",
       "93911  1134328832.0000             Games  0.0000      0.0000    apple   \n",
       "177723  433393664.0000             Games  0.0000      0.0000    apple   \n",
       "30571   360672256.0000             Games  0.0000      0.0000    apple   \n",
       "119892  353041408.0000             Games  0.0000      0.0000    apple   \n",
       "197444  343053312.0000             Games  0.0000      0.0000    apple   \n",
       "98598   330947584.0000             Games  0.0000      0.0000    apple   \n",
       "39635   319857664.0000             Games  0.0000      0.0000    apple   \n",
       "64981   316479488.0000             Games  0.0000      0.0000    apple   \n",
       "50380   290083840.0000             Games  0.0000      0.0000    apple   \n",
       "219747   63618048.0000  Health & Fitness  0.0000      0.0000    apple   \n",
       "\n",
       "              mb  \n",
       "180619 2510.4179  \n",
       "93911  1134.3288  \n",
       "177723  433.3937  \n",
       "30571   360.6723  \n",
       "119892  353.0414  \n",
       "197444  343.0533  \n",
       "98598   330.9476  \n",
       "39635   319.8577  \n",
       "64981   316.4795  \n",
       "50380   290.0838  \n",
       "219747   63.6180  "
      ]
     },
     "execution_count": 138,
     "metadata": {},
     "output_type": "execute_result"
    }
   ],
   "source": [
    "grouped.loc[grouped['genre'] == '2022']"
   ]
  },
  {
   "cell_type": "code",
   "execution_count": 227,
   "id": "2271d3ff-507b-4a5d-a8b6-89e8c73cb985",
   "metadata": {},
   "outputs": [],
   "source": [
    "sub_health = df.loc[df['genre'] == 'Health & Fitness']\n",
    "sub_games = df.loc[df['genre'] == 'Games']\n",
    "sub_music = df.loc[df['genre'] == 'Music']"
   ]
  },
  {
   "cell_type": "code",
   "execution_count": 228,
   "id": "91a0834c-0549-487e-b1ac-beb631d3cadc",
   "metadata": {},
   "outputs": [],
   "source": [
    "### getting dates spread\n",
    "years_health = []\n",
    "months_health = []\n",
    "for i in list(sub_health['release_date']):\n",
    "    years_health.append(i.year)\n",
    "    months_health.append(i.month)\n",
    "\n",
    "years_games = []\n",
    "months_games = []\n",
    "for i in list(sub_games['release_date']):\n",
    "    years_games.append(i.year)\n",
    "    months_games.append(i.month)\n",
    "\n",
    "years_music = []\n",
    "months_music = []\n",
    "for i in list(sub_music['release_date']):\n",
    "    years_music.append(i.year)\n",
    "    months_music.append(i.month)"
   ]
  },
  {
   "cell_type": "code",
   "execution_count": null,
   "id": "93aac8b7-2fcc-4018-be05-aee9359ee89d",
   "metadata": {},
   "outputs": [],
   "source": []
  },
  {
   "cell_type": "code",
   "execution_count": 229,
   "id": "50779ebf-9d0a-4692-84e3-2adcb64c18f2",
   "metadata": {},
   "outputs": [],
   "source": [
    "data_health = list(zip(years_health, months_health))\n",
    "data_games = list(zip(years_games, months_games))\n",
    "data_music = list(zip(years_music, months_music))"
   ]
  },
  {
   "cell_type": "code",
   "execution_count": 231,
   "id": "96a7660a-8576-4c55-bced-e5549095a242",
   "metadata": {},
   "outputs": [],
   "source": [
    "counted_health = dict(Counter(data_health))\n",
    "counted_games = dict(Counter(data_games))\n",
    "counted_music = dict(Counter(data_music))"
   ]
  },
  {
   "cell_type": "code",
   "execution_count": 232,
   "id": "a44cbbcf-c1a8-4607-8572-1b53a1027dee",
   "metadata": {},
   "outputs": [],
   "source": [
    "unq_health = list(set(data_health))\n",
    "unq_games = list(set(data_games))\n",
    "unq_music = list(set(data_music))"
   ]
  },
  {
   "cell_type": "code",
   "execution_count": 240,
   "id": "64092010-be3b-4b93-9c6c-e105991c66ac",
   "metadata": {},
   "outputs": [],
   "source": [
    "combined = unq_health + unq_games + unq_music"
   ]
  },
  {
   "cell_type": "code",
   "execution_count": 243,
   "id": "a5a4a4b0-e8fe-451b-87ad-24c44dfb9d2c",
   "metadata": {},
   "outputs": [],
   "source": [
    "unq_combined = list(set(combined))"
   ]
  },
  {
   "cell_type": "code",
   "execution_count": 278,
   "id": "8af825c7-cacd-4f9c-9ac9-8e4131f55004",
   "metadata": {},
   "outputs": [],
   "source": [
    "nullremoved = []\n",
    "for i in unq_combined:\n",
    "    if type(i[0]) != float:\n",
    "        nullremoved.append(i)"
   ]
  },
  {
   "cell_type": "code",
   "execution_count": 280,
   "id": "c0560452-5262-4f15-b347-541073a2e355",
   "metadata": {},
   "outputs": [],
   "source": [
    "sorteddate = sorted(\n",
    "    nullremoved, \n",
    "    key=lambda x: x[1]\n",
    ")\n",
    "\n",
    "sorteddate = sorted(\n",
    "    sorteddate, \n",
    "    key=lambda x: x[0]\n",
    ")"
   ]
  },
  {
   "cell_type": "code",
   "execution_count": 282,
   "id": "63da9033-9b03-4b24-8308-ab3b6d321be6",
   "metadata": {},
   "outputs": [],
   "source": [
    "#sorteddate"
   ]
  },
  {
   "cell_type": "code",
   "execution_count": 285,
   "id": "140334b3-fdff-4868-9a7c-5581159c6565",
   "metadata": {},
   "outputs": [],
   "source": [
    "x = []\n",
    "y = []\n",
    "y2 = []\n",
    "y3 = []\n",
    "for i in sorteddate:\n",
    "    x.append(str(i[1]) + \"/\" + str(i[0]))\n",
    "    try:\n",
    "        y.append(counted_games[i])\n",
    "    except:\n",
    "        y.append(0)\n",
    "    try:\n",
    "        y2.append(counted_health[i])\n",
    "    except:\n",
    "        y2.append(0)\n",
    "    try:\n",
    "        y3.append(counted_music[i])\n",
    "    except:\n",
    "        y3.append(0)"
   ]
  },
  {
   "cell_type": "code",
   "execution_count": 308,
   "id": "0451cff9-1dfb-48fc-a5be-df7594dada1e",
   "metadata": {},
   "outputs": [
    {
     "data": {
      "image/png": "[encoded data removed]",
      "text/plain": [
       "<Figure size 640x480 with 1 Axes>"
      ]
     },
     "metadata": {},
     "output_type": "display_data"
    }
   ],
   "source": [
    "\"\"\"\n",
    "fig = plt.figure()\n",
    "ax = fig.add_axes([0,0,1,1])\n",
    "ax.bar(x,y)\n",
    "plt.xticks([])\n",
    "plt.show()\n",
    "\"\"\"\n",
    "\n",
    "fig, ax = plt.subplots()\n",
    "\n",
    "# Stacked bar chart\n",
    "ax.bar(x, y, color = \"green\") #games\n",
    "ax.bar(x, y2, bottom = y, color = \"red\") #health\n",
    "ax.bar(x, y3, bottom = np.add(y, y2), color = \"blue\") #music\n",
    "\n",
    "plt.xticks([])\n",
    "plt.title('app releases per month')\n",
    "plt.show()\n"
   ]
  },
  {
   "cell_type": "code",
   "execution_count": 293,
   "id": "b7abc59e-2343-42d8-80f7-2edd22723057",
   "metadata": {},
   "outputs": [],
   "source": [
    "import numpy as np"
   ]
  },
  {
   "cell_type": "code",
   "execution_count": 302,
   "id": "c5c78cf4-d0d6-4b58-b632-06f5a0a2c7c6",
   "metadata": {},
   "outputs": [
    {
     "data": {
      "text/plain": [
       "5259"
      ]
     },
     "execution_count": 302,
     "metadata": {},
     "output_type": "execute_result"
    }
   ],
   "source": [
    "y[100]"
   ]
  },
  {
   "cell_type": "code",
   "execution_count": 303,
   "id": "c0af96ca-5aa4-46fe-8328-efe7b09b55d2",
   "metadata": {},
   "outputs": [
    {
     "data": {
      "text/plain": [
       "1159"
      ]
     },
     "execution_count": 303,
     "metadata": {},
     "output_type": "execute_result"
    }
   ],
   "source": [
    "y2[100]"
   ]
  },
  {
   "cell_type": "code",
   "execution_count": 301,
   "id": "d227fd38-2075-4662-8c7a-42c66264fade",
   "metadata": {},
   "outputs": [
    {
     "data": {
      "text/plain": [
       "1166"
      ]
     },
     "execution_count": 301,
     "metadata": {},
     "output_type": "execute_result"
    }
   ],
   "source": [
    "y3[100]"
   ]
  },
  {
   "cell_type": "code",
   "execution_count": 309,
   "id": "d1efd068-dafe-407b-9937-184c305962ff",
   "metadata": {},
   "outputs": [],
   "source": [
    "#Compute the average rating across all ratings for each of the three categories. Note that we’re not looking for an average \n",
    "#of the average ratings for each category, but rather the average across all ratings for each category. For example, if we \n",
    "#have two apps in the same category and one app has 1 rating with an average of 1.0 and the other app has 2 ratings with an \n",
    "#average of 5.0, the value we’re looking for is 3.7 (average of 1, 5, and 5), not 3.0 (average of 1 and 5). The relevant \n",
    "#columns here are Average_User_Rating and Reviews for the App Store and Rating and Rating Count for Google Play."
   ]
  },
  {
   "cell_type": "code",
   "execution_count": 315,
   "id": "8893add2-0459-4778-a4e8-b6237941e4d5",
   "metadata": {},
   "outputs": [
    {
     "data": {
      "text/html": [
       "<div>\n",
       "<style scoped>\n",
       "    .dataframe tbody tr th:only-of-type {\n",
       "        vertical-align: middle;\n",
       "    }\n",
       "\n",
       "    .dataframe tbody tr th {\n",
       "        vertical-align: top;\n",
       "    }\n",
       "\n",
       "    .dataframe thead th {\n",
       "        text-align: right;\n",
       "    }\n",
       "</style>\n",
       "<table border=\"1\" class=\"dataframe\">\n",
       "  <thead>\n",
       "    <tr style=\"text-align: right;\">\n",
       "      <th></th>\n",
       "      <th>name</th>\n",
       "      <th>release_date</th>\n",
       "      <th>release_year</th>\n",
       "      <th>filesize</th>\n",
       "      <th>genre</th>\n",
       "      <th>rating</th>\n",
       "      <th>rating_amt</th>\n",
       "      <th>platform</th>\n",
       "      <th>year</th>\n",
       "      <th>month</th>\n",
       "    </tr>\n",
       "  </thead>\n",
       "  <tbody>\n",
       "    <tr>\n",
       "      <th>0</th>\n",
       "      <td>Polgar: Magic Detective</td>\n",
       "      <td>2021-06-10</td>\n",
       "      <td>2021</td>\n",
       "      <td>1294534656.0000</td>\n",
       "      <td>Games</td>\n",
       "      <td>1.2500</td>\n",
       "      <td>4.0000</td>\n",
       "      <td>apple</td>\n",
       "      <td>2021.0000</td>\n",
       "      <td>6.0000</td>\n",
       "    </tr>\n",
       "    <tr>\n",
       "      <th>1</th>\n",
       "      <td>Zedic</td>\n",
       "      <td>2020-01-15</td>\n",
       "      <td>2020</td>\n",
       "      <td>10567680.0000</td>\n",
       "      <td>Health &amp; Fitness</td>\n",
       "      <td>5.0000</td>\n",
       "      <td>1.0000</td>\n",
       "      <td>apple</td>\n",
       "      <td>2020.0000</td>\n",
       "      <td>1.0000</td>\n",
       "    </tr>\n",
       "    <tr>\n",
       "      <th>2</th>\n",
       "      <td>TNM</td>\n",
       "      <td>2015-09-16</td>\n",
       "      <td>2015</td>\n",
       "      <td>19420160.0000</td>\n",
       "      <td>Health &amp; Fitness</td>\n",
       "      <td>0.0000</td>\n",
       "      <td>0.0000</td>\n",
       "      <td>apple</td>\n",
       "      <td>2015.0000</td>\n",
       "      <td>9.0000</td>\n",
       "    </tr>\n",
       "    <tr>\n",
       "      <th>3</th>\n",
       "      <td>To Be Or Not To Be -Ryan North</td>\n",
       "      <td>2015-03-18</td>\n",
       "      <td>2015</td>\n",
       "      <td>696291328.0000</td>\n",
       "      <td>Games</td>\n",
       "      <td>4.0667</td>\n",
       "      <td>60.0000</td>\n",
       "      <td>apple</td>\n",
       "      <td>2015.0000</td>\n",
       "      <td>3.0000</td>\n",
       "    </tr>\n",
       "    <tr>\n",
       "      <th>4</th>\n",
       "      <td>Eat-Right</td>\n",
       "      <td>2019-05-01</td>\n",
       "      <td>2019</td>\n",
       "      <td>14516224.0000</td>\n",
       "      <td>Health &amp; Fitness</td>\n",
       "      <td>0.0000</td>\n",
       "      <td>0.0000</td>\n",
       "      <td>apple</td>\n",
       "      <td>2019.0000</td>\n",
       "      <td>5.0000</td>\n",
       "    </tr>\n",
       "    <tr>\n",
       "      <th>...</th>\n",
       "      <td>...</td>\n",
       "      <td>...</td>\n",
       "      <td>...</td>\n",
       "      <td>...</td>\n",
       "      <td>...</td>\n",
       "      <td>...</td>\n",
       "      <td>...</td>\n",
       "      <td>...</td>\n",
       "      <td>...</td>\n",
       "      <td>...</td>\n",
       "    </tr>\n",
       "    <tr>\n",
       "      <th>598284</th>\n",
       "      <td>All Germany Radios in One App</td>\n",
       "      <td>2019-08-24</td>\n",
       "      <td>2019</td>\n",
       "      <td>8000000.0000</td>\n",
       "      <td>Music</td>\n",
       "      <td>0.0000</td>\n",
       "      <td>0.0000</td>\n",
       "      <td>android</td>\n",
       "      <td>2019.0000</td>\n",
       "      <td>8.0000</td>\n",
       "    </tr>\n",
       "    <tr>\n",
       "      <th>598285</th>\n",
       "      <td>Click Counter. How Many Clicks Can You Handle?</td>\n",
       "      <td>2019-07-31</td>\n",
       "      <td>2019</td>\n",
       "      <td>9200000.0000</td>\n",
       "      <td>Games</td>\n",
       "      <td>0.0000</td>\n",
       "      <td>0.0000</td>\n",
       "      <td>android</td>\n",
       "      <td>2019.0000</td>\n",
       "      <td>7.0000</td>\n",
       "    </tr>\n",
       "    <tr>\n",
       "      <th>598286</th>\n",
       "      <td>Spooky Halloween</td>\n",
       "      <td>2016-10-29</td>\n",
       "      <td>2016</td>\n",
       "      <td>NaN</td>\n",
       "      <td>Games</td>\n",
       "      <td>3.9000</td>\n",
       "      <td>11.0000</td>\n",
       "      <td>android</td>\n",
       "      <td>2016.0000</td>\n",
       "      <td>10.0000</td>\n",
       "    </tr>\n",
       "    <tr>\n",
       "      <th>598287</th>\n",
       "      <td>Ringtones Def Leppard Greatest Hits</td>\n",
       "      <td>2019-09-29</td>\n",
       "      <td>2019</td>\n",
       "      <td>11000000.0000</td>\n",
       "      <td>Music</td>\n",
       "      <td>4.6000</td>\n",
       "      <td>50.0000</td>\n",
       "      <td>android</td>\n",
       "      <td>2019.0000</td>\n",
       "      <td>9.0000</td>\n",
       "    </tr>\n",
       "    <tr>\n",
       "      <th>598288</th>\n",
       "      <td>Guide For Wolfquest</td>\n",
       "      <td>2021-02-26</td>\n",
       "      <td>2021</td>\n",
       "      <td>8200000.0000</td>\n",
       "      <td>Games</td>\n",
       "      <td>3.2000</td>\n",
       "      <td>96.0000</td>\n",
       "      <td>android</td>\n",
       "      <td>2021.0000</td>\n",
       "      <td>2.0000</td>\n",
       "    </tr>\n",
       "  </tbody>\n",
       "</table>\n",
       "<p>882660 rows × 10 columns</p>\n",
       "</div>"
      ],
      "text/plain": [
       "                                                  name release_date  \\\n",
       "0                              Polgar: Magic Detective   2021-06-10   \n",
       "1                                                Zedic   2020-01-15   \n",
       "2                                                  TNM   2015-09-16   \n",
       "3                       To Be Or Not To Be -Ryan North   2015-03-18   \n",
       "4                                            Eat-Right   2019-05-01   \n",
       "...                                                ...          ...   \n",
       "598284                   All Germany Radios in One App   2019-08-24   \n",
       "598285  Click Counter. How Many Clicks Can You Handle?   2019-07-31   \n",
       "598286                                Spooky Halloween   2016-10-29   \n",
       "598287             Ringtones Def Leppard Greatest Hits   2019-09-29   \n",
       "598288                             Guide For Wolfquest   2021-02-26   \n",
       "\n",
       "       release_year        filesize             genre  rating  rating_amt  \\\n",
       "0              2021 1294534656.0000             Games  1.2500      4.0000   \n",
       "1              2020   10567680.0000  Health & Fitness  5.0000      1.0000   \n",
       "2              2015   19420160.0000  Health & Fitness  0.0000      0.0000   \n",
       "3              2015  696291328.0000             Games  4.0667     60.0000   \n",
       "4              2019   14516224.0000  Health & Fitness  0.0000      0.0000   \n",
       "...             ...             ...               ...     ...         ...   \n",
       "598284         2019    8000000.0000             Music  0.0000      0.0000   \n",
       "598285         2019    9200000.0000             Games  0.0000      0.0000   \n",
       "598286         2016             NaN             Games  3.9000     11.0000   \n",
       "598287         2019   11000000.0000             Music  4.6000     50.0000   \n",
       "598288         2021    8200000.0000             Games  3.2000     96.0000   \n",
       "\n",
       "       platform      year   month  \n",
       "0         apple 2021.0000  6.0000  \n",
       "1         apple 2020.0000  1.0000  \n",
       "2         apple 2015.0000  9.0000  \n",
       "3         apple 2015.0000  3.0000  \n",
       "4         apple 2019.0000  5.0000  \n",
       "...         ...       ...     ...  \n",
       "598284  android 2019.0000  8.0000  \n",
       "598285  android 2019.0000  7.0000  \n",
       "598286  android 2016.0000 10.0000  \n",
       "598287  android 2019.0000  9.0000  \n",
       "598288  android 2021.0000  2.0000  \n",
       "\n",
       "[882660 rows x 10 columns]"
      ]
     },
     "execution_count": 315,
     "metadata": {},
     "output_type": "execute_result"
    }
   ],
   "source": [
    "df"
   ]
  },
  {
   "cell_type": "code",
   "execution_count": 316,
   "id": "cfe49090-8bf4-410b-ae50-d66874d712a6",
   "metadata": {},
   "outputs": [],
   "source": [
    "sub_health = df.loc[df['genre'] == 'Health & Fitness']\n",
    "sub_games = df.loc[df['genre'] == 'Games']\n",
    "sub_music = df.loc[df['genre'] == 'Music']"
   ]
  },
  {
   "cell_type": "code",
   "execution_count": 321,
   "id": "102fbc45-8efa-434a-be7d-e20c87b9797b",
   "metadata": {},
   "outputs": [],
   "source": [
    "rate_health = list(sub_health['rating'])\n",
    "amt_health = list(sub_health['rating_amt'])"
   ]
  },
  {
   "cell_type": "code",
   "execution_count": 322,
   "id": "c0530e86-eaa7-4bf6-80a9-a4b38b5be33b",
   "metadata": {},
   "outputs": [],
   "source": [
    "rate_games = list(sub_games['rating'])\n",
    "amt_games = list(sub_games['rating_amt'])"
   ]
  },
  {
   "cell_type": "code",
   "execution_count": 323,
   "id": "d0437dc6-e3f5-44ab-819a-22e046f1280e",
   "metadata": {},
   "outputs": [],
   "source": [
    "rate_music = list(sub_music['rating'])\n",
    "amt_music = list(sub_music['rating_amt'])"
   ]
  },
  {
   "cell_type": "code",
   "execution_count": 326,
   "id": "e929ebd7-2e3d-4ad3-b428-d2a1fa894e1e",
   "metadata": {},
   "outputs": [],
   "source": [
    "rates_health = list(zip(rate_health, amt_health))\n",
    "rates_games = list(zip(rate_games, amt_games))\n",
    "rates_music = list(zip(rate_music, amt_music))"
   ]
  },
  {
   "cell_type": "code",
   "execution_count": 331,
   "id": "84f39dd7-c7d0-4ccf-b5cd-a8f35f119645",
   "metadata": {},
   "outputs": [],
   "source": [
    "ratings = 0\n",
    "combined = 0\n",
    "for i in rates_health:\n",
    "    if i[1] > .5:\n",
    "        combined = combined + (i[0] * i[1])\n",
    "        ratings = ratings + i[1]"
   ]
  },
  {
   "cell_type": "code",
   "execution_count": 335,
   "id": "87e5f280-f8a4-490d-8ee8-c8b966d8075c",
   "metadata": {},
   "outputs": [],
   "source": [
    "health_avg = combined / ratings"
   ]
  },
  {
   "cell_type": "code",
   "execution_count": 336,
   "id": "35a1246d-2519-4e6e-9d5a-bf21e65fc39d",
   "metadata": {},
   "outputs": [],
   "source": [
    "ratings = 0\n",
    "combined = 0\n",
    "for i in rates_games:\n",
    "    if i[1] > .5:\n",
    "        combined = combined + (i[0] * i[1])\n",
    "        ratings = ratings + i[1]\n",
    "games_avg = combined / ratings"
   ]
  },
  {
   "cell_type": "code",
   "execution_count": 337,
   "id": "5bf81465-d3fe-41c9-a6c6-773ba52f772d",
   "metadata": {},
   "outputs": [],
   "source": [
    "ratings = 0\n",
    "combined = 0\n",
    "for i in rates_music:\n",
    "    if i[1] > .5:\n",
    "        combined = combined + (i[0] * i[1])\n",
    "        ratings = ratings + i[1]\n",
    "music_avg = combined / ratings"
   ]
  },
  {
   "cell_type": "code",
   "execution_count": 338,
   "id": "8750c47e-ec56-402e-aed8-a4fd3a1c8242",
   "metadata": {},
   "outputs": [
    {
     "name": "stdout",
     "output_type": "stream",
     "text": [
      "4.5555467914962655\n",
      "4.311394363825693\n",
      "4.479038125325136\n"
     ]
    }
   ],
   "source": [
    "print(health_avg)\n",
    "print(games_avg)\n",
    "print(music_avg)"
   ]
  },
  {
   "cell_type": "code",
   "execution_count": 339,
   "id": "5913df0e-1c43-4b5c-99fe-beee13c3bc49",
   "metadata": {},
   "outputs": [],
   "source": [
    "#Plot the distribution of app sizes across our three categories. This column is called Size_Bytes in the App Store data and Size in the Google Play data."
   ]
  },
  {
   "cell_type": "code",
   "execution_count": 344,
   "id": "8f687153-59ec-493e-acea-a48cd2e4c3a6",
   "metadata": {},
   "outputs": [],
   "source": [
    "avgfs_health = sub_health['filesize'].mean()\n",
    "avgfs_games = sub_games['filesize'].mean()\n",
    "avgfs_music = sub_music['filesize'].mean()"
   ]
  },
  {
   "cell_type": "code",
   "execution_count": 347,
   "id": "fdad3e70-3693-4ccf-940b-20fddb6dcb67",
   "metadata": {},
   "outputs": [],
   "source": [
    "mb_music = avgfs_music / mb\n",
    "mb_health = avgfs_health / mb\n",
    "mb_games = avgfs_games / mb"
   ]
  },
  {
   "cell_type": "code",
   "execution_count": 348,
   "id": "9d532036-019c-4fa7-839f-be3fea1b6988",
   "metadata": {},
   "outputs": [
    {
     "data": {
      "text/plain": [
       "72.72859969433385"
      ]
     },
     "execution_count": 348,
     "metadata": {},
     "output_type": "execute_result"
    }
   ],
   "source": []
  },
  {
   "cell_type": "code",
   "execution_count": 350,
   "id": "e303c714-a703-45e1-98e8-45e4eaefae92",
   "metadata": {},
   "outputs": [
    {
     "data": {
      "text/plain": [
       "Text(0.5, 1.0, 'average app size in mb')"
      ]
     },
     "execution_count": 350,
     "metadata": {},
     "output_type": "execute_result"
    },
    {
     "data": {
      "image/png": "[encoded data removed]",
      "text/plain": [
       "<Figure size 640x480 with 1 Axes>"
      ]
     },
     "metadata": {},
     "output_type": "display_data"
    }
   ],
   "source": [
    "objects = ('Python', 'C++', 'Java', 'Perl', 'Scala', 'Lisp')\n",
    "x = ['music','health','games']\n",
    "y = [mb_music,mb_health,mb_games]\n",
    "\n",
    "plt.bar(x, y, align='center', alpha=0.5)\n",
    "\n",
    "plt.title('average app size in mb')"
   ]
  },
  {
   "cell_type": "code",
   "execution_count": null,
   "id": "7ea0fe3b-e91a-4913-beae-ae9b8246958a",
   "metadata": {},
   "outputs": [],
   "source": []
  }
 ],
 "metadata": {
  "kernelspec": {
   "display_name": "Python 3 (ipykernel)",
   "language": "python",
   "name": "python3"
  },
  "language_info": {
   "codemirror_mode": {
    "name": "ipython",
    "version": 3
   },
   "file_extension": ".py",
   "mimetype": "text/x-python",
   "name": "python",
   "nbconvert_exporter": "python",
   "pygments_lexer": "ipython3",
   "version": "3.11.4"
  }
 },
 "nbformat": 4,
 "nbformat_minor": 5
}

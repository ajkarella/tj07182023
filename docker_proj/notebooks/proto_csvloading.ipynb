{
 "cells": [
  {
   "cell_type": "code",
   "execution_count": 4,
   "id": "bd87ad61-9b16-45c8-bebe-955f7cfd645f",
   "metadata": {},
   "outputs": [],
   "source": [
    "import pandas as pd\n",
    "from sqlalchemy import create_engine"
   ]
  },
  {
   "cell_type": "code",
   "execution_count": 11,
   "id": "be5890d9-56c7-4eb3-be59-c61bab4892e1",
   "metadata": {},
   "outputs": [],
   "source": [
    "engine = create_engine('postgresql://postgres:postgres@db:5432/postgres')"
   ]
  },
  {
   "cell_type": "code",
   "execution_count": 8,
   "id": "48f6eda3-4350-4714-aae9-7e5c23a059d7",
   "metadata": {},
   "outputs": [],
   "source": [
    "df = pd.read_csv('data/appleAppData.csv')"
   ]
  },
  {
   "cell_type": "code",
   "execution_count": 15,
   "id": "9ce3c2fd-1472-4881-a69e-f43738096d96",
   "metadata": {},
   "outputs": [
    {
     "data": {
      "text/plain": [
       "376"
      ]
     },
     "execution_count": 15,
     "metadata": {},
     "output_type": "execute_result"
    }
   ],
   "source": [
    "df.to_sql('apple_data', engine, index=False, if_exists='replace')"
   ]
  },
  {
   "cell_type": "code",
   "execution_count": 16,
   "id": "313bc94b-7d95-4cae-9bb2-f55707b03388",
   "metadata": {},
   "outputs": [],
   "source": [
    "df = pd.read_csv('data/Google-Playstore.csv')"
   ]
  },
  {
   "cell_type": "code",
   "execution_count": 18,
   "id": "ea3d43f3-cd0a-4173-b168-e7cfd6da7f4b",
   "metadata": {},
   "outputs": [],
   "source": [
    "cols = df.columns"
   ]
  },
  {
   "cell_type": "code",
   "execution_count": 23,
   "id": "425934ce-530b-4aa2-a524-10052df118c2",
   "metadata": {},
   "outputs": [],
   "source": [
    "new_cols = []\n",
    "for i in cols:\n",
    "    new_cols.append(i.replace(\" \",\"_\"))"
   ]
  },
  {
   "cell_type": "code",
   "execution_count": 24,
   "id": "3d003c03-77a4-4c6e-9d54-9d934a0b25d6",
   "metadata": {},
   "outputs": [],
   "source": [
    "df.columns = new_cols"
   ]
  },
  {
   "cell_type": "code",
   "execution_count": 26,
   "id": "364672a9-6742-40e3-9d38-438bf21bfc61",
   "metadata": {},
   "outputs": [
    {
     "data": {
      "text/plain": [
       "944"
      ]
     },
     "execution_count": 26,
     "metadata": {},
     "output_type": "execute_result"
    }
   ],
   "source": [
    "df.to_sql('android_data', engine, index=False, if_exists='replace')"
   ]
  }
 ],
 "metadata": {
  "kernelspec": {
   "display_name": "Python 3 (ipykernel)",
   "language": "python",
   "name": "python3"
  },
  "language_info": {
   "codemirror_mode": {
    "name": "ipython",
    "version": 3
   },
   "file_extension": ".py",
   "mimetype": "text/x-python",
   "name": "python",
   "nbconvert_exporter": "python",
   "pygments_lexer": "ipython3",
   "version": "3.11.4"
  }
 },
 "nbformat": 4,
 "nbformat_minor": 5
}
